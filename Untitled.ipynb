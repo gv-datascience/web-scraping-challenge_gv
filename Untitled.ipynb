{
 "cells": [
  {
   "cell_type": "code",
   "execution_count": 1,
   "metadata": {},
   "outputs": [],
   "source": [
    "from splinter import Browser\n",
    "from bs4 import BeautifulSoup as bs\n",
    "import time\n",
    "import pandas as pd"
   ]
  },
  {
   "cell_type": "code",
   "execution_count": 4,
   "metadata": {},
   "outputs": [],
   "source": [
    "def scrape_marsimage():\n",
    "    \n",
    "    executable_path = {\"executable_path\": \"C:\\Windows\\System32\\chromedriver\"}\n",
    "  \n",
    "    browser = Browser('chrome', **executable_path, headless=False)\n",
    "\n",
    "\n",
    "    # Visit jpl.nasa.gov\n",
    "    url = \"https://www.jpl.nasa.gov/spaceimages/?search=&category=Mars\"\n",
    "    #base_url=\"https://www.jpl.nasa.gov/\"\n",
    "    browser.visit(url)\n",
    "\n",
    "    time.sleep(1)\n",
    "\n",
    "    # Parse page using Beautiful Soup\n",
    "\n",
    "    html = browser.html\n",
    "    soup = bs(html, \"html.parser\")\n",
    "\n",
    "    # Get the image url\n",
    "    browser.find_by_id(\"full_image\").click()\n",
    "    \n",
    "    browser.is_element_present_by_text('more info',wait_time=1)\n",
    "    full_image_button=browser.links.find_by_partial_text('more info')\n",
    "    full_image_button.click()\n",
    "   \n",
    "    html=browser.html\n",
    "    soup = bs(html, \"html.parser\")\n",
    "    \n",
    "    image_url=soup.select_one('figure.lede a img').get('src')\n",
    "    \n",
    "    #featured_image_url=f'{base_url}{image_url}'\n",
    "    Featured_image_url = f'https://www.jpl.nasa.gov/{image_url}'\n",
    "\n",
    "    # Close the browser after scraping\n",
    "    browser.quit()\n",
    "\n",
    "    # Return results\n",
    "    return Featured_image_url"
   ]
  },
  {
   "cell_type": "code",
   "execution_count": 6,
   "metadata": {},
   "outputs": [
    {
     "name": "stdout",
     "output_type": "stream",
     "text": [
      "https://www.jpl.nasa.gov//spaceimages/images/largesize/PIA16029_hires.jpg\n"
     ]
    }
   ],
   "source": [
    "Featured_image_url=scrape_marsimage()\n",
    "print(Featured_image_url)"
   ]
  },
  {
   "cell_type": "code",
   "execution_count": 33,
   "metadata": {},
   "outputs": [],
   "source": [
    "def scrape_marshemispheres():\n",
    "    #browser = init_browser()\n",
    "    \n",
    "    executable_path = {\"executable_path\": \"C:\\Windows\\System32\\chromedriver\"}\n",
    "  \n",
    "    browser = Browser('chrome', **executable_path, headless=False)\n",
    "    # Visit astrogeology url\n",
    "    url = \"https://astrogeology.usgs.gov/search/results?q=hemisphere+enhanced&k1=target&v1=Mars\"\n",
    "    browser.visit(url)\n",
    "\n",
    "   # time.sleep(1)\n",
    "\n",
    "    # Scrape page into Soup\n",
    "    html = browser.html\n",
    "    soup = bs(html, \"html.parser\")\n",
    "    \n",
    "    hemisphere_images_url=[]\n",
    "    \n",
    "    for x in range(4):\n",
    "        browser.find_by_tag('h3')[x].click()\n",
    "        html = browser.html\n",
    "        soup = bs(html, \"html.parser\")\n",
    "        images=soup.find('img',class_='wide-image')['src']\n",
    "        image_url=f'https://astrogeology.usgs.gov/{images}'\n",
    "        title=soup.find('h2').text\n",
    "        browser.back()\n",
    "        hemisphere_images_url.append({\"title\": title, \"img_url\":image_url })\n",
    "        time.sleep(2)\n",
    "\n",
    "    browser.quit()\n",
    "    return hemisphere_images_url"
   ]
  },
  {
   "cell_type": "code",
   "execution_count": 34,
   "metadata": {},
   "outputs": [
    {
     "name": "stdout",
     "output_type": "stream",
     "text": [
      "[{'title': 'Cerberus Hemisphere Enhanced', 'img_url': 'https://astrogeology.usgs.gov//cache/images/f5e372a36edfa389625da6d0cc25d905_cerberus_enhanced.tif_full.jpg'}, {'title': 'Schiaparelli Hemisphere Enhanced', 'img_url': 'https://astrogeology.usgs.gov//cache/images/3778f7b43bbbc89d6e3cfabb3613ba93_schiaparelli_enhanced.tif_full.jpg'}, {'title': 'Syrtis Major Hemisphere Enhanced', 'img_url': 'https://astrogeology.usgs.gov//cache/images/555e6403a6ddd7ba16ddb0e471cadcf7_syrtis_major_enhanced.tif_full.jpg'}, {'title': 'Valles Marineris Hemisphere Enhanced', 'img_url': 'https://astrogeology.usgs.gov//cache/images/b3c7c6c9138f57b4756be9b9c43e3a48_valles_marineris_enhanced.tif_full.jpg'}]\n"
     ]
    }
   ],
   "source": [
    "mars_info=scrape_marshemispheres()\n",
    "print(mars_info)"
   ]
  },
  {
   "cell_type": "code",
   "execution_count": null,
   "metadata": {},
   "outputs": [],
   "source": []
  }
 ],
 "metadata": {
  "kernelspec": {
   "display_name": "Python 3",
   "language": "python",
   "name": "python3"
  },
  "language_info": {
   "codemirror_mode": {
    "name": "ipython",
    "version": 3
   },
   "file_extension": ".py",
   "mimetype": "text/x-python",
   "name": "python",
   "nbconvert_exporter": "python",
   "pygments_lexer": "ipython3",
   "version": "3.7.6"
  }
 },
 "nbformat": 4,
 "nbformat_minor": 4
}
