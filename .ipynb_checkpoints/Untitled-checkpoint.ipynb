{
 "cells": [
  {
   "cell_type": "code",
   "execution_count": 1,
   "metadata": {},
   "outputs": [],
   "source": [
    "from splinter import Browser\n",
    "from bs4 import BeautifulSoup as bs\n",
    "import time\n",
    "import pandas as pd"
   ]
  },
  {
   "cell_type": "code",
   "execution_count": 4,
   "metadata": {},
   "outputs": [],
   "source": [
    "def scrape_marsimage():\n",
    "    \n",
    "    executable_path = {\"executable_path\": \"C:\\Windows\\System32\\chromedriver\"}\n",
    "  \n",
    "    browser = Browser('chrome', **executable_path, headless=False)\n",
    "\n",
    "\n",
    "    # Visit jpl.nasa.gov\n",
    "    url = \"https://www.jpl.nasa.gov/spaceimages/?search=&category=Mars\"\n",
    "    #base_url=\"https://www.jpl.nasa.gov/\"\n",
    "    browser.visit(url)\n",
    "\n",
    "    time.sleep(1)\n",
    "\n",
    "    # Parse page using Beautiful Soup\n",
    "\n",
    "    html = browser.html\n",
    "    soup = bs(html, \"html.parser\")\n",
    "\n",
    "    # Get the image url\n",
    "    browser.find_by_id(\"full_image\").click()\n",
    "    \n",
    "    browser.is_element_present_by_text('more info',wait_time=1)\n",
    "    full_image_button=browser.links.find_by_partial_text('more info')\n",
    "    full_image_button.click()\n",
    "   \n",
    "    html=browser.html\n",
    "    soup = bs(html, \"html.parser\")\n",
    "    \n",
    "    image_url=soup.select_one('figure.lede a img').get('src')\n",
    "    \n",
    "    #featured_image_url=f'{base_url}{image_url}'\n",
    "    Featured_image_url = f'https://www.jpl.nasa.gov/{image_url}'\n",
    "\n",
    "    # Close the browser after scraping\n",
    "    browser.quit()\n",
    "\n",
    "    # Return results\n",
    "    return Featured_image_url"
   ]
  },
  {
   "cell_type": "code",
   "execution_count": 6,
   "metadata": {},
   "outputs": [
    {
     "name": "stdout",
     "output_type": "stream",
     "text": [
      "https://www.jpl.nasa.gov//spaceimages/images/largesize/PIA16029_hires.jpg\n"
     ]
    }
   ],
   "source": [
    "Featured_image_url=scrape_marsimage()\n",
    "print(Featured_image_url)"
   ]
  },
  {
   "cell_type": "code",
   "execution_count": 12,
   "metadata": {},
   "outputs": [],
   "source": [
    "def scrape_marshemispheres():\n",
    "    #browser = init_browser()\n",
    "    \n",
    "    executable_path = {\"executable_path\": \"C:\\Windows\\System32\\chromedriver\"}\n",
    "  \n",
    "    browser = Browser('chrome', **executable_path, headless=False)\n",
    "    # Visit astrogeology url\n",
    "    url = \"https://astrogeology.usgs.gov/search/results?q=hemisphere+enhanced&k1=target&v1=Mars\"\n",
    "    browser.visit(url)\n",
    "\n",
    "    time.sleep(1)\n",
    "\n",
    "    # Scrape page into Soup\n",
    "    html = browser.html\n",
    "    soup = bs(html, \"html.parser\")\n",
    "\n",
    "     # Retreive all items that contain mars hemispheres information\n",
    "    items = soup.find_all('div', class_='item')\n",
    "\n",
    "        # Create empty list for hemisphere urls \n",
    "    hiu = []\n",
    "    hem_list = []\n",
    "    mars_info=[]\n",
    "        # Store the main_ul \n",
    "    main_url = 'https://astrogeology.usgs.gov' \n",
    "\n",
    "        # Loop through the items previously stored\n",
    "    for i in items: \n",
    "        title = i.find('h3').text\n",
    "            \n",
    "        # assign the link to image which can be used to form the complete url\n",
    "        partial_img_url = i.find('a', class_='itemLink product-item')['href']\n",
    "            \n",
    "        # Visit the link that contains the full image website \n",
    "        browser.visit(main_url + partial_img_url)\n",
    "            \n",
    "        # Obtain HTML  of individual hemisphere \n",
    "        partial_img_html = browser.html\n",
    "            \n",
    "        # Parse with Beautiful Soup for every individual hemisphere link \n",
    "        soup = bs( partial_img_html, 'html.parser')\n",
    "            \n",
    "        # Retrieve full image source \n",
    "        img_url = main_url + soup.find('img', class_='wide-image')['src']\n",
    "            \n",
    "        # Append the list \n",
    "        hem_list.append({\"title\" : title, \"img_url\" : img_url})\n",
    "\n",
    "        mars_info['hem_list'] = hem_list\n",
    "        \n",
    "       \n",
    "        browser.quit()\n",
    "\n",
    "    return mars_info"
   ]
  },
  {
   "cell_type": "code",
   "execution_count": 13,
   "metadata": {},
   "outputs": [
    {
     "ename": "NameError",
     "evalue": "name 'mars_info' is not defined",
     "output_type": "error",
     "traceback": [
      "\u001b[1;31m---------------------------------------------------------------------------\u001b[0m",
      "\u001b[1;31mNameError\u001b[0m                                 Traceback (most recent call last)",
      "\u001b[1;32m<ipython-input-13-1997c71816fb>\u001b[0m in \u001b[0;36m<module>\u001b[1;34m\u001b[0m\n\u001b[1;32m----> 1\u001b[1;33m \u001b[0mmars_info\u001b[0m\u001b[1;33m=\u001b[0m\u001b[0mscrape_marshemispheres\u001b[0m\u001b[1;33m(\u001b[0m\u001b[1;33m)\u001b[0m\u001b[1;33m\u001b[0m\u001b[1;33m\u001b[0m\u001b[0m\n\u001b[0m\u001b[0;32m      2\u001b[0m \u001b[0mprint\u001b[0m\u001b[1;33m(\u001b[0m\u001b[0mmars_info\u001b[0m\u001b[1;33m)\u001b[0m\u001b[1;33m\u001b[0m\u001b[1;33m\u001b[0m\u001b[0m\n",
      "\u001b[1;32m<ipython-input-12-0e522ecb5f4f>\u001b[0m in \u001b[0;36mscrape_marshemispheres\u001b[1;34m()\u001b[0m\n\u001b[0;32m     46\u001b[0m         \u001b[0mhem_list\u001b[0m\u001b[1;33m.\u001b[0m\u001b[0mappend\u001b[0m\u001b[1;33m(\u001b[0m\u001b[1;33m{\u001b[0m\u001b[1;34m\"title\"\u001b[0m \u001b[1;33m:\u001b[0m \u001b[0mtitle\u001b[0m\u001b[1;33m,\u001b[0m \u001b[1;34m\"img_url\"\u001b[0m \u001b[1;33m:\u001b[0m \u001b[0mimg_url\u001b[0m\u001b[1;33m}\u001b[0m\u001b[1;33m)\u001b[0m\u001b[1;33m\u001b[0m\u001b[1;33m\u001b[0m\u001b[0m\n\u001b[0;32m     47\u001b[0m \u001b[1;33m\u001b[0m\u001b[0m\n\u001b[1;32m---> 48\u001b[1;33m         \u001b[0mmars_info\u001b[0m\u001b[1;33m[\u001b[0m\u001b[1;34m'hem_list'\u001b[0m\u001b[1;33m]\u001b[0m \u001b[1;33m=\u001b[0m \u001b[0mhem_list\u001b[0m\u001b[1;33m\u001b[0m\u001b[1;33m\u001b[0m\u001b[0m\n\u001b[0m\u001b[0;32m     49\u001b[0m \u001b[1;33m\u001b[0m\u001b[0m\n\u001b[0;32m     50\u001b[0m \u001b[1;33m\u001b[0m\u001b[0m\n",
      "\u001b[1;31mNameError\u001b[0m: name 'mars_info' is not defined"
     ]
    }
   ],
   "source": [
    "mars_info=scrape_marshemispheres()\n",
    "print(mars_info)"
   ]
  },
  {
   "cell_type": "code",
   "execution_count": null,
   "metadata": {},
   "outputs": [],
   "source": []
  }
 ],
 "metadata": {
  "kernelspec": {
   "display_name": "Python 3",
   "language": "python",
   "name": "python3"
  },
  "language_info": {
   "codemirror_mode": {
    "name": "ipython",
    "version": 3
   },
   "file_extension": ".py",
   "mimetype": "text/x-python",
   "name": "python",
   "nbconvert_exporter": "python",
   "pygments_lexer": "ipython3",
   "version": "3.7.6"
  }
 },
 "nbformat": 4,
 "nbformat_minor": 4
}
